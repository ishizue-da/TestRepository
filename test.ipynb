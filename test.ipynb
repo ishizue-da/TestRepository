{
  "nbformat": 4,
  "nbformat_minor": 0,
  "metadata": {
    "colab": {
      "name": "test.ipynb",
      "provenance": [],
      "toc_visible": true
    },
    "kernelspec": {
      "name": "python3",
      "display_name": "Python 3"
    }
  },
  "cells": [
    {
      "cell_type": "markdown",
      "metadata": {
        "id": "fFlUak1h3P0L",
        "colab_type": "text"
      },
      "source": [
        "# setting"
      ]
    },
    {
      "cell_type": "code",
      "metadata": {
        "id": "oiQCNE6c3P0M",
        "colab_type": "code",
        "colab": {}
      },
      "source": [
        "\n",
        "%matplotlib inline\n",
        "import matplotlib.pyplot as plt\n",
        "import numpy as np\n",
        "import pandas as pd\n"
      ],
      "execution_count": null,
      "outputs": []
    },
    {
      "cell_type": "code",
      "metadata": {
        "id": "JiWcJKtM3ZPA",
        "colab_type": "code",
        "colab": {
          "base_uri": "https://localhost:8080/",
          "height": 34
        },
        "outputId": "91223ffb-f611-44e4-cba4-cd83ea2e102c"
      },
      "source": [
        "print( 'test code')"
      ],
      "execution_count": null,
      "outputs": [
        {
          "output_type": "stream",
          "text": [
            "test code\n"
          ],
          "name": "stdout"
        }
      ]
    },
    {
      "cell_type": "code",
      "metadata": {
        "id": "oERTaJybcjPa",
        "colab_type": "code",
        "colab": {
          "base_uri": "https://localhost:8080/",
          "height": 54
        },
        "outputId": "489f787f-8daf-4346-d8d5-02090682ce8b"
      },
      "source": [
        "from google.colab import drive\n",
        "drive.mount('/content/drive')"
      ],
      "execution_count": 12,
      "outputs": [
        {
          "output_type": "stream",
          "text": [
            "Drive already mounted at /content/drive; to attempt to forcibly remount, call drive.mount(\"/content/drive\", force_remount=True).\n"
          ],
          "name": "stdout"
        }
      ]
    },
    {
      "cell_type": "code",
      "metadata": {
        "id": "8DY5Ud3Gcs6P",
        "colab_type": "code",
        "colab": {
          "base_uri": "https://localhost:8080/",
          "height": 70
        },
        "outputId": "2e50b1c0-13ab-467b-f2dd-383def2d0078"
      },
      "source": [
        "%cd /content/drive/My\\ Drive \n",
        "%ls"
      ],
      "execution_count": 14,
      "outputs": [
        {
          "output_type": "stream",
          "text": [
            "/content/drive/My Drive\n",
            " ColabInitSetting.ipynb   \u001b[0m\u001b[01;34mem_xerox\u001b[0m/        \u001b[01;34mtest_03\u001b[0m/\n",
            "\u001b[01;34m'Colab Notebooks'\u001b[0m/        \u001b[01;34mpytorch_study\u001b[0m/   Untitled1.ipynb\n"
          ],
          "name": "stdout"
        }
      ]
    },
    {
      "cell_type": "code",
      "metadata": {
        "id": "pScRSPnXc1gN",
        "colab_type": "code",
        "colab": {
          "base_uri": "https://localhost:8080/",
          "height": 52
        },
        "outputId": "3271f8ab-4034-4ff5-c0e0-376838f6d3ae"
      },
      "source": [
        "%cd /content/\n",
        "%ls"
      ],
      "execution_count": 15,
      "outputs": [
        {
          "output_type": "stream",
          "text": [
            "/content\n",
            "\u001b[0m\u001b[01;34mdrive\u001b[0m/  \u001b[01;34msample_data\u001b[0m/\n"
          ],
          "name": "stdout"
        }
      ]
    },
    {
      "cell_type": "code",
      "metadata": {
        "id": "wKoJ1bfzdz2L",
        "colab_type": "code",
        "colab": {
          "base_uri": "https://localhost:8080/",
          "height": 52
        },
        "outputId": "ad4f9b63-e804-4d72-b3ed-3438f0e0b863"
      },
      "source": [
        "%pwd\n",
        "import os\n",
        "import sys\n",
        "selfDir = os.path.dirname(os.path.abspath(\"__file__\"))\n",
        "print( \"selfDir :\", selfDir)\n",
        "sys.path.append(os.path.join(selfDir, 'TestRepository'))\n",
        "sys.path.append(\"/content/drive/My Drive/test_03\")\n",
        "\n",
        "import test_drive\n",
        "\n",
        "test_drive.test_drive_01()"
      ],
      "execution_count": 32,
      "outputs": [
        {
          "output_type": "stream",
          "text": [
            "selfDir : /content\n",
            "test_drive_01\n"
          ],
          "name": "stdout"
        }
      ]
    },
    {
      "cell_type": "code",
      "metadata": {
        "id": "QIvp0R0nj6AZ",
        "colab_type": "code",
        "colab": {
          "base_uri": "https://localhost:8080/",
          "height": 347
        },
        "outputId": "6f4333af-5198-4ee5-d1ea-8d7b978bfb1a"
      },
      "source": [
        "import os\n",
        "import sys\n",
        "sys.path.append(\"https://github.com/ishizue-da/TestRepository\")\n",
        "sys.path.append(\"https://github.com/ishizue-da/TestRepository/tree/master\")\n",
        "\n",
        "import test_py\n"
      ],
      "execution_count": 35,
      "outputs": [
        {
          "output_type": "error",
          "ename": "ModuleNotFoundError",
          "evalue": "ignored",
          "traceback": [
            "\u001b[0;31m---------------------------------------------------------------------------\u001b[0m",
            "\u001b[0;31mModuleNotFoundError\u001b[0m                       Traceback (most recent call last)",
            "\u001b[0;32m<ipython-input-35-afdf3ac856ee>\u001b[0m in \u001b[0;36m<module>\u001b[0;34m()\u001b[0m\n\u001b[1;32m      4\u001b[0m \u001b[0msys\u001b[0m\u001b[0;34m.\u001b[0m\u001b[0mpath\u001b[0m\u001b[0;34m.\u001b[0m\u001b[0mappend\u001b[0m\u001b[0;34m(\u001b[0m\u001b[0;34m\"https://github.com/ishizue-da/TestRepository/tree/master\"\u001b[0m\u001b[0;34m)\u001b[0m\u001b[0;34m\u001b[0m\u001b[0;34m\u001b[0m\u001b[0m\n\u001b[1;32m      5\u001b[0m \u001b[0;34m\u001b[0m\u001b[0m\n\u001b[0;32m----> 6\u001b[0;31m \u001b[0;32mimport\u001b[0m \u001b[0mtest_py\u001b[0m\u001b[0;34m\u001b[0m\u001b[0;34m\u001b[0m\u001b[0m\n\u001b[0m",
            "\u001b[0;31mModuleNotFoundError\u001b[0m: No module named 'test_py'",
            "",
            "\u001b[0;31m---------------------------------------------------------------------------\u001b[0;32m\nNOTE: If your import is failing due to a missing package, you can\nmanually install dependencies using either !pip or !apt.\n\nTo view examples of installing some common dependencies, click the\n\"Open Examples\" button below.\n\u001b[0;31m---------------------------------------------------------------------------\u001b[0m\n"
          ]
        }
      ]
    },
    {
      "cell_type": "code",
      "metadata": {
        "id": "WPcNFhiklZXv",
        "colab_type": "code",
        "colab": {
          "base_uri": "https://localhost:8080/",
          "height": 34
        },
        "outputId": "390186ce-cb5b-4ac0-ade5-d97eae459301"
      },
      "source": [
        "!echo $PYTHONPATH"
      ],
      "execution_count": 37,
      "outputs": [
        {
          "output_type": "stream",
          "text": [
            "/env/python\n"
          ],
          "name": "stdout"
        }
      ]
    },
    {
      "cell_type": "code",
      "metadata": {
        "id": "XaY7SDxrlh-S",
        "colab_type": "code",
        "colab": {
          "base_uri": "https://localhost:8080/",
          "height": 34
        },
        "outputId": "94ea86e0-e5a3-4a28-87c1-5ffda0b6d2a9"
      },
      "source": [
        "#!export PYTHONPATH=$PYTHONPATH;\"https://github.com/ishizue-da/TestRepository/tree/master\"\n",
        "!export PYTHONPATH=$PYTHONPATH;\"https://github.com/ishizue-da/TestRepository\""
      ],
      "execution_count": 43,
      "outputs": [
        {
          "output_type": "stream",
          "text": [
            "/bin/bash: https://github.com/ishizue-da/TestRepository: No such file or directory\n"
          ],
          "name": "stdout"
        }
      ]
    },
    {
      "cell_type": "code",
      "metadata": {
        "id": "JR3k1zxSmrX1",
        "colab_type": "code",
        "colab": {
          "base_uri": "https://localhost:8080/",
          "height": 34
        },
        "outputId": "19d21fee-d928-4ec3-aa1d-5c321590d31a"
      },
      "source": [
        "!pip install -q PyGitHub\n",
        "from github import Github, GithubException\n",
        "import nbformat"
      ],
      "execution_count": 44,
      "outputs": [
        {
          "output_type": "stream",
          "text": [
            "\u001b[?25l\r\u001b[K     |█▎                              | 10kB 22.7MB/s eta 0:00:01\r\u001b[K     |██▌                             | 20kB 2.2MB/s eta 0:00:01\r\u001b[K     |███▊                            | 30kB 2.8MB/s eta 0:00:01\r\u001b[K     |█████                           | 40kB 3.1MB/s eta 0:00:01\r\u001b[K     |██████▎                         | 51kB 2.5MB/s eta 0:00:01\r\u001b[K     |███████▌                        | 61kB 2.8MB/s eta 0:00:01\r\u001b[K     |████████▉                       | 71kB 3.0MB/s eta 0:00:01\r\u001b[K     |██████████                      | 81kB 3.3MB/s eta 0:00:01\r\u001b[K     |███████████▎                    | 92kB 3.5MB/s eta 0:00:01\r\u001b[K     |████████████▋                   | 102kB 3.4MB/s eta 0:00:01\r\u001b[K     |█████████████▉                  | 112kB 3.4MB/s eta 0:00:01\r\u001b[K     |███████████████                 | 122kB 3.4MB/s eta 0:00:01\r\u001b[K     |████████████████▍               | 133kB 3.4MB/s eta 0:00:01\r\u001b[K     |█████████████████▋              | 143kB 3.4MB/s eta 0:00:01\r\u001b[K     |██████████████████▉             | 153kB 3.4MB/s eta 0:00:01\r\u001b[K     |████████████████████▏           | 163kB 3.4MB/s eta 0:00:01\r\u001b[K     |█████████████████████▍          | 174kB 3.4MB/s eta 0:00:01\r\u001b[K     |██████████████████████▋         | 184kB 3.4MB/s eta 0:00:01\r\u001b[K     |████████████████████████        | 194kB 3.4MB/s eta 0:00:01\r\u001b[K     |█████████████████████████▏      | 204kB 3.4MB/s eta 0:00:01\r\u001b[K     |██████████████████████████▍     | 215kB 3.4MB/s eta 0:00:01\r\u001b[K     |███████████████████████████▊    | 225kB 3.4MB/s eta 0:00:01\r\u001b[K     |█████████████████████████████   | 235kB 3.4MB/s eta 0:00:01\r\u001b[K     |██████████████████████████████▏ | 245kB 3.4MB/s eta 0:00:01\r\u001b[K     |███████████████████████████████▌| 256kB 3.4MB/s eta 0:00:01\r\u001b[K     |████████████████████████████████| 266kB 3.4MB/s \n",
            "\u001b[?25h"
          ],
          "name": "stdout"
        }
      ]
    },
    {
      "cell_type": "code",
      "metadata": {
        "id": "n8f6e-6gmxf-",
        "colab_type": "code",
        "colab": {}
      },
      "source": [
        "# access_token = '93c0e358978018a0cd29f78f49f8a494c6a8c357'\n",
        "access_token = '8bd86f678ada45a8e5a0da8c816df61b44253aaa' \n",
        "repository_name = 'TestRepository' \n",
        "# repository_name = 'estimate-xerox' \n",
        "# ipynb_file_name = 'xerox_src/colob_nootbooks/test.ipynb'\n",
        "ipynb_file_name = 'test.ipynb'"
      ],
      "execution_count": 47,
      "outputs": []
    },
    {
      "cell_type": "code",
      "metadata": {
        "id": "r1_7HIK3ngOX",
        "colab_type": "code",
        "colab": {}
      },
      "source": [
        "github = Github(access_token)\n",
        "user = github.get_user()"
      ],
      "execution_count": 48,
      "outputs": []
    },
    {
      "cell_type": "code",
      "metadata": {
        "id": "84HRenFBnQBW",
        "colab_type": "code",
        "colab": {
          "base_uri": "https://localhost:8080/",
          "height": 52
        },
        "outputId": "623aba85-e79c-4dde-b436-b7ef3a3d723f"
      },
      "source": [
        "print(f'github: https://github.com/{user.login}/{repository_name}/blob/master')\n",
        "print(f'colab:  https://colab.research.google.com/github/{user.login}/{repository_name}/blob/master/')"
      ],
      "execution_count": 55,
      "outputs": [
        {
          "output_type": "stream",
          "text": [
            "github: https://github.com/ishizue-da/TestRepository/blob/master\n",
            "colab:  https://colab.research.google.com/github/ishizue-da/TestRepository/blob/master/\n"
          ],
          "name": "stdout"
        }
      ]
    },
    {
      "cell_type": "code",
      "metadata": {
        "id": "9yuPnBJrntM_",
        "colab_type": "code",
        "colab": {
          "base_uri": "https://localhost:8080/",
          "height": 34
        },
        "outputId": "5598c158-413c-4e89-e60a-e8d12d8fceb7"
      },
      "source": [
        "print(f'github: https://github.com/{user.login}/{repository_name}/blob/master')\n",
        "\n",
        "# !exp# ort PYTHONPATH=$PYTHONPATH;\"https://github.com/ishizue-da/TestRepository\"\n"
      ],
      "execution_count": 52,
      "outputs": [
        {
          "output_type": "stream",
          "text": [
            "github: https://github.com/ishizue-da/TestRepository/blob/master\n"
          ],
          "name": "stdout"
        }
      ]
    },
    {
      "cell_type": "code",
      "metadata": {
        "id": "yNlISNxVoVS0",
        "colab_type": "code",
        "colab": {
          "base_uri": "https://localhost:8080/",
          "height": 34
        },
        "outputId": "94b1ad24-d182-4c43-db0c-c64ba4f9a07c"
      },
      "source": [
        "!export PYTHONPATH=$PYTHONPATH;'https://github.com/ishizue-da/TestRepository/blob/master'"
      ],
      "execution_count": 53,
      "outputs": [
        {
          "output_type": "stream",
          "text": [
            "/bin/bash: https://github.com/ishizue-da/TestRepository/blob/master: No such file or directory\n"
          ],
          "name": "stdout"
        }
      ]
    },
    {
      "cell_type": "code",
      "metadata": {
        "id": "3gX6b3Pwotdi",
        "colab_type": "code",
        "colab": {
          "base_uri": "https://localhost:8080/",
          "height": 54
        },
        "outputId": "bd9ac98f-936d-4736-bae5-b9bad80b55a9"
      },
      "source": [
        "!export PYTHONPATH=$PYTHONPATH;'https://colab.research.google.com/github/ishizue-da/TestRepository/blob/master/'"
      ],
      "execution_count": 56,
      "outputs": [
        {
          "output_type": "stream",
          "text": [
            "/bin/bash: https://colab.research.google.com/github/ishizue-da/TestRepository/blob/master/: No such file or directory\n"
          ],
          "name": "stdout"
        }
      ]
    },
    {
      "cell_type": "code",
      "metadata": {
        "id": "rnUWzXjBzgXb",
        "colab_type": "code",
        "colab": {
          "base_uri": "https://localhost:8080/",
          "height": 54
        },
        "outputId": "914e337e-973e-47ee-f984-69cab3caf1c1"
      },
      "source": [
        " %ls https://colab.research.google.com/github/ishizue-da/TestRepository/blob/master"
      ],
      "execution_count": 57,
      "outputs": [
        {
          "output_type": "stream",
          "text": [
            "ls: cannot access 'https://colab.research.google.com/github/ishizue-da/TestRepository/blob/master': No such file or directory\n"
          ],
          "name": "stdout"
        }
      ]
    }
  ]
}