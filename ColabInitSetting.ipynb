{
  "nbformat": 4,
  "nbformat_minor": 0,
  "metadata": {
    "colab": {
      "name": "ColabInitSetting.ipynb",
      "provenance": [],
      "authorship_tag": "ABX9TyMARxsn6KQgKnz0exx4pvHm",
      "include_colab_link": true
    },
    "kernelspec": {
      "name": "python3",
      "display_name": "Python 3"
    }
  },
  "cells": [
    {
      "cell_type": "markdown",
      "metadata": {
        "id": "view-in-github",
        "colab_type": "text"
      },
      "source": [
        "<a href=\"https://colab.research.google.com/github/ishizue-da/TestRepository/blob/master/ColabInitSetting.ipynb\" target=\"_parent\"><img src=\"https://colab.research.google.com/assets/colab-badge.svg\" alt=\"Open In Colab\"/></a>"
      ]
    },
    {
      "cell_type": "markdown",
      "metadata": {
        "id": "jzJoYichx2yo",
        "colab_type": "text"
      },
      "source": [
        "Setting"
      ]
    },
    {
      "cell_type": "code",
      "metadata": {
        "id": "giK46fvoxZ7L",
        "colab_type": "code",
        "colab": {
          "base_uri": "https://localhost:8080/",
          "height": 34
        },
        "outputId": "0b1d78b9-756b-4418-fa46-c9e7e870d85e"
      },
      "source": [
        "!pip install -q PyGitHub\n",
        "from github import Github, GithubException\n",
        "import nbformat"
      ],
      "execution_count": 1,
      "outputs": [
        {
          "output_type": "stream",
          "text": [
            "\u001b[?25l\r\u001b[K     |█▎                              | 10kB 21.2MB/s eta 0:00:01\r\u001b[K     |██▌                             | 20kB 1.7MB/s eta 0:00:01\r\u001b[K     |███▊                            | 30kB 2.2MB/s eta 0:00:01\r\u001b[K     |█████                           | 40kB 2.5MB/s eta 0:00:01\r\u001b[K     |██████▎                         | 51kB 1.9MB/s eta 0:00:01\r\u001b[K     |███████▌                        | 61kB 2.2MB/s eta 0:00:01\r\u001b[K     |████████▉                       | 71kB 2.5MB/s eta 0:00:01\r\u001b[K     |██████████                      | 81kB 2.7MB/s eta 0:00:01\r\u001b[K     |███████████▎                    | 92kB 2.9MB/s eta 0:00:01\r\u001b[K     |████████████▋                   | 102kB 2.7MB/s eta 0:00:01\r\u001b[K     |█████████████▉                  | 112kB 2.7MB/s eta 0:00:01\r\u001b[K     |███████████████                 | 122kB 2.7MB/s eta 0:00:01\r\u001b[K     |████████████████▍               | 133kB 2.7MB/s eta 0:00:01\r\u001b[K     |█████████████████▋              | 143kB 2.7MB/s eta 0:00:01\r\u001b[K     |██████████████████▉             | 153kB 2.7MB/s eta 0:00:01\r\u001b[K     |████████████████████▏           | 163kB 2.7MB/s eta 0:00:01\r\u001b[K     |█████████████████████▍          | 174kB 2.7MB/s eta 0:00:01\r\u001b[K     |██████████████████████▋         | 184kB 2.7MB/s eta 0:00:01\r\u001b[K     |████████████████████████        | 194kB 2.7MB/s eta 0:00:01\r\u001b[K     |█████████████████████████▏      | 204kB 2.7MB/s eta 0:00:01\r\u001b[K     |██████████████████████████▍     | 215kB 2.7MB/s eta 0:00:01\r\u001b[K     |███████████████████████████▊    | 225kB 2.7MB/s eta 0:00:01\r\u001b[K     |█████████████████████████████   | 235kB 2.7MB/s eta 0:00:01\r\u001b[K     |██████████████████████████████▏ | 245kB 2.7MB/s eta 0:00:01\r\u001b[K     |███████████████████████████████▌| 256kB 2.7MB/s eta 0:00:01\r\u001b[K     |████████████████████████████████| 266kB 2.7MB/s \n",
            "\u001b[?25h"
          ],
          "name": "stdout"
        }
      ]
    },
    {
      "cell_type": "code",
      "metadata": {
        "id": "haDQEOdgyDW1",
        "colab_type": "code",
        "colab": {}
      },
      "source": [
        "access_token = '93c0e358978018a0cd29f78f49f8a494c6a8c357'\n",
        "\n",
        "repository_name = 'TestRepository' \n",
        "ipynb_file_name = 'test.ipynb'"
      ],
      "execution_count": 2,
      "outputs": []
    },
    {
      "cell_type": "markdown",
      "metadata": {
        "id": "39fF022ByTWW",
        "colab_type": "text"
      },
      "source": [
        "Create repository"
      ]
    },
    {
      "cell_type": "code",
      "metadata": {
        "id": "EZI6JrxEyb1s",
        "colab_type": "code",
        "colab": {}
      },
      "source": [
        "github = Github(access_token)\n",
        "user = github.get_user()\n",
        "\n",
        "try:\n",
        "  user.create_repo(repository_name)\n",
        "except GithubException:\n",
        "  print(f'{repository_name} already exists on this account.')"
      ],
      "execution_count": 3,
      "outputs": []
    },
    {
      "cell_type": "markdown",
      "metadata": {
        "id": "z6jpbVOPy4o3",
        "colab_type": "text"
      },
      "source": [
        "Create ipynb file"
      ]
    },
    {
      "cell_type": "code",
      "metadata": {
        "id": "OHkHYHRizC9_",
        "colab_type": "code",
        "colab": {}
      },
      "source": [
        "nb = nbformat.v4.new_notebook()\n",
        "\n",
        "title = '# setting'\n",
        "code = \"\"\"\n",
        "%matplotlib inline\n",
        "import matplotlib.pyplot as plt\n",
        "import numpy as np\n",
        "import pandas as pd\n",
        "\"\"\"\n",
        "\n",
        "nb[\"cells\"] = [\n",
        "    nbformat.v4.new_markdown_cell(title),\n",
        "    nbformat.v4.new_code_cell(code)\n",
        "]"
      ],
      "execution_count": 4,
      "outputs": []
    },
    {
      "cell_type": "markdown",
      "metadata": {
        "id": "a99JcS8FzvoJ",
        "colab_type": "text"
      },
      "source": [
        "Upload ipynb file"
      ]
    },
    {
      "cell_type": "code",
      "metadata": {
        "id": "AtpslbWKzzCB",
        "colab_type": "code",
        "colab": {}
      },
      "source": [
        "repo = user.get_repo(repository_name)\n",
        "\n",
        "try:\n",
        "  repo.get_contents(ipynb_file_name)\n",
        "  raise(Exception(f'{ipynb_file_name} already exists in {repository_name}.'))\n",
        "except GithubException as e:\n",
        "  repo.create_file(ipynb_file_name, f'create {ipynb_file_name}', nbformat.writes(nb))"
      ],
      "execution_count": 5,
      "outputs": []
    },
    {
      "cell_type": "markdown",
      "metadata": {
        "id": "STDjSXfG0j3S",
        "colab_type": "text"
      },
      "source": [
        "Display ipynb file"
      ]
    },
    {
      "cell_type": "code",
      "metadata": {
        "id": "DvjH0Y3H0pGD",
        "colab_type": "code",
        "colab": {
          "base_uri": "https://localhost:8080/",
          "height": 52
        },
        "outputId": "6e281c9e-90dc-4b49-f73f-e5cc83b4174a"
      },
      "source": [
        "print(f'github: https://github.com/{user.login}/{repository_name}/blob/master/{ipynb_file_name}')\n",
        "print(f'colab:  https://colab.research.google.com/github/{user.login}/{repository_name}/blob/master/{ipynb_file_name}')"
      ],
      "execution_count": 6,
      "outputs": [
        {
          "output_type": "stream",
          "text": [
            "github: https://github.com/ishizue-da/TestRepository/blob/master/test.ipynb\n",
            "colab:  https://colab.research.google.com/github/ishizue-da/TestRepository/blob/master/test.ipynb\n"
          ],
          "name": "stdout"
        }
      ]
    }
  ]
}