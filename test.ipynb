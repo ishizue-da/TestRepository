{
  "nbformat": 4,
  "nbformat_minor": 0,
  "metadata": {
    "colab": {
      "name": "test.ipynb",
      "provenance": []
    },
    "kernelspec": {
      "name": "python3",
      "display_name": "Python 3"
    }
  },
  "cells": [
    {
      "cell_type": "markdown",
      "metadata": {
        "id": "fFlUak1h3P0L",
        "colab_type": "text"
      },
      "source": [
        "# setting"
      ]
    },
    {
      "cell_type": "code",
      "metadata": {
        "id": "oiQCNE6c3P0M",
        "colab_type": "code",
        "colab": {}
      },
      "source": [
        "\n",
        "%matplotlib inline\n",
        "import matplotlib.pyplot as plt\n",
        "import numpy as np\n",
        "import pandas as pd\n"
      ],
      "execution_count": 1,
      "outputs": []
    },
    {
      "cell_type": "code",
      "metadata": {
        "id": "JiWcJKtM3ZPA",
        "colab_type": "code",
        "colab": {
          "base_uri": "https://localhost:8080/",
          "height": 34
        },
        "outputId": "2c5aecfd-97e6-4a0b-ff26-81d6931c1931"
      },
      "source": [
        "print( 'test code')"
      ],
      "execution_count": 2,
      "outputs": [
        {
          "output_type": "stream",
          "text": [
            "test code\n"
          ],
          "name": "stdout"
        }
      ]
    },
    {
      "cell_type": "code",
      "metadata": {
        "id": "oERTaJybcjPa",
        "colab_type": "code",
        "colab": {
          "base_uri": "https://localhost:8080/",
          "height": 125
        },
        "outputId": "9b97c9f4-8eb2-44d2-d21d-7445ecc6730c"
      },
      "source": [
        "from google.colab import drive\n",
        "drive.mount('/content/drive')"
      ],
      "execution_count": 3,
      "outputs": [
        {
          "output_type": "stream",
          "text": [
            "Go to this URL in a browser: https://accounts.google.com/o/oauth2/auth?client_id=947318989803-6bn6qk8qdgf4n4g3pfee6491hc0brc4i.apps.googleusercontent.com&redirect_uri=urn%3aietf%3awg%3aoauth%3a2.0%3aoob&response_type=code&scope=email%20https%3a%2f%2fwww.googleapis.com%2fauth%2fdocs.test%20https%3a%2f%2fwww.googleapis.com%2fauth%2fdrive%20https%3a%2f%2fwww.googleapis.com%2fauth%2fdrive.photos.readonly%20https%3a%2f%2fwww.googleapis.com%2fauth%2fpeopleapi.readonly\n",
            "\n",
            "Enter your authorization code:\n",
            "··········\n",
            "Mounted at /content/drive\n"
          ],
          "name": "stdout"
        }
      ]
    },
    {
      "cell_type": "code",
      "metadata": {
        "id": "8DY5Ud3Gcs6P",
        "colab_type": "code",
        "colab": {
          "base_uri": "https://localhost:8080/",
          "height": 70
        },
        "outputId": "2e50b1c0-13ab-467b-f2dd-383def2d0078"
      },
      "source": [
        "%cd /content/drive/My\\ Drive \n",
        "%ls"
      ],
      "execution_count": null,
      "outputs": [
        {
          "output_type": "stream",
          "text": [
            "/content/drive/My Drive\n",
            " ColabInitSetting.ipynb   \u001b[0m\u001b[01;34mem_xerox\u001b[0m/        \u001b[01;34mtest_03\u001b[0m/\n",
            "\u001b[01;34m'Colab Notebooks'\u001b[0m/        \u001b[01;34mpytorch_study\u001b[0m/   Untitled1.ipynb\n"
          ],
          "name": "stdout"
        }
      ]
    },
    {
      "cell_type": "code",
      "metadata": {
        "id": "pScRSPnXc1gN",
        "colab_type": "code",
        "colab": {
          "base_uri": "https://localhost:8080/",
          "height": 52
        },
        "outputId": "3271f8ab-4034-4ff5-c0e0-376838f6d3ae"
      },
      "source": [
        "%cd /content/\n",
        "%ls"
      ],
      "execution_count": null,
      "outputs": [
        {
          "output_type": "stream",
          "text": [
            "/content\n",
            "\u001b[0m\u001b[01;34mdrive\u001b[0m/  \u001b[01;34msample_data\u001b[0m/\n"
          ],
          "name": "stdout"
        }
      ]
    },
    {
      "cell_type": "code",
      "metadata": {
        "id": "wKoJ1bfzdz2L",
        "colab_type": "code",
        "colab": {
          "base_uri": "https://localhost:8080/",
          "height": 52
        },
        "outputId": "ad4f9b63-e804-4d72-b3ed-3438f0e0b863"
      },
      "source": [
        "%pwd\n",
        "import os\n",
        "import sys\n",
        "selfDir = os.path.dirname(os.path.abspath(\"__file__\"))\n",
        "print( \"selfDir :\", selfDir)\n",
        "sys.path.append(os.path.join(selfDir, 'TestRepository'))\n",
        "sys.path.append(\"/content/drive/My Drive/test_03\")\n",
        "\n",
        "import test_drive\n",
        "\n",
        "test_drive.test_drive_01()"
      ],
      "execution_count": null,
      "outputs": [
        {
          "output_type": "stream",
          "text": [
            "selfDir : /content\n",
            "test_drive_01\n"
          ],
          "name": "stdout"
        }
      ]
    },
    {
      "cell_type": "code",
      "metadata": {
        "id": "QIvp0R0nj6AZ",
        "colab_type": "code",
        "colab": {
          "base_uri": "https://localhost:8080/",
          "height": 347
        },
        "outputId": "6f4333af-5198-4ee5-d1ea-8d7b978bfb1a"
      },
      "source": [
        "import os\n",
        "import sys\n",
        "sys.path.append(\"https://github.com/ishizue-da/TestRepository\")\n",
        "sys.path.append(\"https://github.com/ishizue-da/TestRepository/tree/master\")\n",
        "\n",
        "import test_py\n"
      ],
      "execution_count": null,
      "outputs": [
        {
          "output_type": "error",
          "ename": "ModuleNotFoundError",
          "evalue": "ignored",
          "traceback": [
            "\u001b[0;31m---------------------------------------------------------------------------\u001b[0m",
            "\u001b[0;31mModuleNotFoundError\u001b[0m                       Traceback (most recent call last)",
            "\u001b[0;32m<ipython-input-35-afdf3ac856ee>\u001b[0m in \u001b[0;36m<module>\u001b[0;34m()\u001b[0m\n\u001b[1;32m      4\u001b[0m \u001b[0msys\u001b[0m\u001b[0;34m.\u001b[0m\u001b[0mpath\u001b[0m\u001b[0;34m.\u001b[0m\u001b[0mappend\u001b[0m\u001b[0;34m(\u001b[0m\u001b[0;34m\"https://github.com/ishizue-da/TestRepository/tree/master\"\u001b[0m\u001b[0;34m)\u001b[0m\u001b[0;34m\u001b[0m\u001b[0;34m\u001b[0m\u001b[0m\n\u001b[1;32m      5\u001b[0m \u001b[0;34m\u001b[0m\u001b[0m\n\u001b[0;32m----> 6\u001b[0;31m \u001b[0;32mimport\u001b[0m \u001b[0mtest_py\u001b[0m\u001b[0;34m\u001b[0m\u001b[0;34m\u001b[0m\u001b[0m\n\u001b[0m",
            "\u001b[0;31mModuleNotFoundError\u001b[0m: No module named 'test_py'",
            "",
            "\u001b[0;31m---------------------------------------------------------------------------\u001b[0;32m\nNOTE: If your import is failing due to a missing package, you can\nmanually install dependencies using either !pip or !apt.\n\nTo view examples of installing some common dependencies, click the\n\"Open Examples\" button below.\n\u001b[0;31m---------------------------------------------------------------------------\u001b[0m\n"
          ]
        }
      ]
    },
    {
      "cell_type": "code",
      "metadata": {
        "id": "WPcNFhiklZXv",
        "colab_type": "code",
        "colab": {
          "base_uri": "https://localhost:8080/",
          "height": 34
        },
        "outputId": "390186ce-cb5b-4ac0-ade5-d97eae459301"
      },
      "source": [
        "!echo $PYTHONPATH"
      ],
      "execution_count": null,
      "outputs": [
        {
          "output_type": "stream",
          "text": [
            "/env/python\n"
          ],
          "name": "stdout"
        }
      ]
    },
    {
      "cell_type": "code",
      "metadata": {
        "id": "XaY7SDxrlh-S",
        "colab_type": "code",
        "colab": {
          "base_uri": "https://localhost:8080/",
          "height": 34
        },
        "outputId": "94ea86e0-e5a3-4a28-87c1-5ffda0b6d2a9"
      },
      "source": [
        "#!export PYTHONPATH=$PYTHONPATH;\"https://github.com/ishizue-da/TestRepository/tree/master\"\n",
        "!export PYTHONPATH=$PYTHONPATH;\"https://github.com/ishizue-da/TestRepository\""
      ],
      "execution_count": null,
      "outputs": [
        {
          "output_type": "stream",
          "text": [
            "/bin/bash: https://github.com/ishizue-da/TestRepository: No such file or directory\n"
          ],
          "name": "stdout"
        }
      ]
    },
    {
      "cell_type": "code",
      "metadata": {
        "id": "JR3k1zxSmrX1",
        "colab_type": "code",
        "colab": {
          "base_uri": "https://localhost:8080/",
          "height": 34
        },
        "outputId": "19d21fee-d928-4ec3-aa1d-5c321590d31a"
      },
      "source": [
        "!pip install -q PyGitHub\n",
        "from github import Github, GithubException\n",
        "import nbformat"
      ],
      "execution_count": null,
      "outputs": [
        {
          "output_type": "stream",
          "text": [
            "\u001b[?25l\r\u001b[K     |█▎                              | 10kB 22.7MB/s eta 0:00:01\r\u001b[K     |██▌                             | 20kB 2.2MB/s eta 0:00:01\r\u001b[K     |███▊                            | 30kB 2.8MB/s eta 0:00:01\r\u001b[K     |█████                           | 40kB 3.1MB/s eta 0:00:01\r\u001b[K     |██████▎                         | 51kB 2.5MB/s eta 0:00:01\r\u001b[K     |███████▌                        | 61kB 2.8MB/s eta 0:00:01\r\u001b[K     |████████▉                       | 71kB 3.0MB/s eta 0:00:01\r\u001b[K     |██████████                      | 81kB 3.3MB/s eta 0:00:01\r\u001b[K     |███████████▎                    | 92kB 3.5MB/s eta 0:00:01\r\u001b[K     |████████████▋                   | 102kB 3.4MB/s eta 0:00:01\r\u001b[K     |█████████████▉                  | 112kB 3.4MB/s eta 0:00:01\r\u001b[K     |███████████████                 | 122kB 3.4MB/s eta 0:00:01\r\u001b[K     |████████████████▍               | 133kB 3.4MB/s eta 0:00:01\r\u001b[K     |█████████████████▋              | 143kB 3.4MB/s eta 0:00:01\r\u001b[K     |██████████████████▉             | 153kB 3.4MB/s eta 0:00:01\r\u001b[K     |████████████████████▏           | 163kB 3.4MB/s eta 0:00:01\r\u001b[K     |█████████████████████▍          | 174kB 3.4MB/s eta 0:00:01\r\u001b[K     |██████████████████████▋         | 184kB 3.4MB/s eta 0:00:01\r\u001b[K     |████████████████████████        | 194kB 3.4MB/s eta 0:00:01\r\u001b[K     |█████████████████████████▏      | 204kB 3.4MB/s eta 0:00:01\r\u001b[K     |██████████████████████████▍     | 215kB 3.4MB/s eta 0:00:01\r\u001b[K     |███████████████████████████▊    | 225kB 3.4MB/s eta 0:00:01\r\u001b[K     |█████████████████████████████   | 235kB 3.4MB/s eta 0:00:01\r\u001b[K     |██████████████████████████████▏ | 245kB 3.4MB/s eta 0:00:01\r\u001b[K     |███████████████████████████████▌| 256kB 3.4MB/s eta 0:00:01\r\u001b[K     |████████████████████████████████| 266kB 3.4MB/s \n",
            "\u001b[?25h"
          ],
          "name": "stdout"
        }
      ]
    },
    {
      "cell_type": "code",
      "metadata": {
        "id": "n8f6e-6gmxf-",
        "colab_type": "code",
        "colab": {}
      },
      "source": [
        "# access_token = '93c0e358978018a0cd29f78f49f8a494c6a8c357'\n",
        "access_token = '8bd86f678ada45a8e5a0da8c816df61b44253aaa' \n",
        "repository_name = 'TestRepository' \n",
        "# repository_name = 'estimate-xerox' \n",
        "# ipynb_file_name = 'xerox_src/colob_nootbooks/test.ipynb'\n",
        "ipynb_file_name = 'test.ipynb'"
      ],
      "execution_count": null,
      "outputs": []
    },
    {
      "cell_type": "code",
      "metadata": {
        "id": "r1_7HIK3ngOX",
        "colab_type": "code",
        "colab": {}
      },
      "source": [
        "github = Github(access_token)\n",
        "user = github.get_user()"
      ],
      "execution_count": null,
      "outputs": []
    },
    {
      "cell_type": "code",
      "metadata": {
        "id": "84HRenFBnQBW",
        "colab_type": "code",
        "colab": {
          "base_uri": "https://localhost:8080/",
          "height": 52
        },
        "outputId": "623aba85-e79c-4dde-b436-b7ef3a3d723f"
      },
      "source": [
        "print(f'github: https://github.com/{user.login}/{repository_name}/blob/master')\n",
        "print(f'colab:  https://colab.research.google.com/github/{user.login}/{repository_name}/blob/master/')"
      ],
      "execution_count": null,
      "outputs": [
        {
          "output_type": "stream",
          "text": [
            "github: https://github.com/ishizue-da/TestRepository/blob/master\n",
            "colab:  https://colab.research.google.com/github/ishizue-da/TestRepository/blob/master/\n"
          ],
          "name": "stdout"
        }
      ]
    },
    {
      "cell_type": "code",
      "metadata": {
        "id": "9yuPnBJrntM_",
        "colab_type": "code",
        "colab": {
          "base_uri": "https://localhost:8080/",
          "height": 34
        },
        "outputId": "5598c158-413c-4e89-e60a-e8d12d8fceb7"
      },
      "source": [
        "print(f'github: https://github.com/{user.login}/{repository_name}/blob/master')\n",
        "\n",
        "# !exp# ort PYTHONPATH=$PYTHONPATH;\"https://github.com/ishizue-da/TestRepository\"\n"
      ],
      "execution_count": null,
      "outputs": [
        {
          "output_type": "stream",
          "text": [
            "github: https://github.com/ishizue-da/TestRepository/blob/master\n"
          ],
          "name": "stdout"
        }
      ]
    },
    {
      "cell_type": "code",
      "metadata": {
        "id": "yNlISNxVoVS0",
        "colab_type": "code",
        "colab": {
          "base_uri": "https://localhost:8080/",
          "height": 34
        },
        "outputId": "94b1ad24-d182-4c43-db0c-c64ba4f9a07c"
      },
      "source": [
        "!export PYTHONPATH=$PYTHONPATH;'https://github.com/ishizue-da/TestRepository/blob/master'"
      ],
      "execution_count": null,
      "outputs": [
        {
          "output_type": "stream",
          "text": [
            "/bin/bash: https://github.com/ishizue-da/TestRepository/blob/master: No such file or directory\n"
          ],
          "name": "stdout"
        }
      ]
    },
    {
      "cell_type": "code",
      "metadata": {
        "id": "3gX6b3Pwotdi",
        "colab_type": "code",
        "colab": {
          "base_uri": "https://localhost:8080/",
          "height": 54
        },
        "outputId": "bd9ac98f-936d-4736-bae5-b9bad80b55a9"
      },
      "source": [
        "!export PYTHONPATH=$PYTHONPATH;'https://colab.research.google.com/github/ishizue-da/TestRepository/blob/master/'"
      ],
      "execution_count": null,
      "outputs": [
        {
          "output_type": "stream",
          "text": [
            "/bin/bash: https://colab.research.google.com/github/ishizue-da/TestRepository/blob/master/: No such file or directory\n"
          ],
          "name": "stdout"
        }
      ]
    },
    {
      "cell_type": "code",
      "metadata": {
        "id": "rnUWzXjBzgXb",
        "colab_type": "code",
        "colab": {
          "base_uri": "https://localhost:8080/",
          "height": 54
        },
        "outputId": "914e337e-973e-47ee-f984-69cab3caf1c1"
      },
      "source": [
        " %ls https://colab.research.google.com/github/ishizue-da/TestRepository/blob/master"
      ],
      "execution_count": null,
      "outputs": [
        {
          "output_type": "stream",
          "text": [
            "ls: cannot access 'https://colab.research.google.com/github/ishizue-da/TestRepository/blob/master': No such file or directory\n"
          ],
          "name": "stdout"
        }
      ]
    },
    {
      "cell_type": "markdown",
      "metadata": {
        "id": "3YRpPdro7UGa",
        "colab_type": "text"
      },
      "source": [
        ""
      ]
    },
    {
      "cell_type": "markdown",
      "metadata": {
        "id": "MPC8aSYS7f-0",
        "colab_type": "text"
      },
      "source": [
        "別のノートブックをインポートする\n"
      ]
    },
    {
      "cell_type": "code",
      "metadata": {
        "id": "ECNd1wAy7Va0",
        "colab_type": "code",
        "colab": {}
      },
      "source": [
        "import io, os, sys, types\n",
        "from IPython import get_ipython\n",
        "from nbformat import read\n",
        "from IPython.core.interactiveshell import InteractiveShell\n",
        "\n",
        "def find_notebook(fullname, path=None):\n",
        "    name = fullname.rsplit('.', 1)[-1]\n",
        "    if not path:\n",
        "        path = ['']\n",
        "    for d in path:\n",
        "        nb_path = os.path.join(d, name + \".ipynb\")\n",
        "        if os.path.isfile(nb_path):\n",
        "            return nb_path\n",
        "        nb_path = nb_path.replace(\"_\", \" \")\n",
        "        if os.path.isfile(nb_path):\n",
        "            return nb_path\n",
        "\n",
        "class NotebookLoader(object):\n",
        "    def __init__(self, path=None):\n",
        "        self.shell = InteractiveShell.instance()\n",
        "        self.path = path\n",
        "\n",
        "    def load_module(self, fullname):\n",
        "        path = find_notebook(fullname, self.path)\n",
        "        with io.open(path, 'r', encoding='utf-8') as f:\n",
        "            nb = read(f, 4)\n",
        "        mod = types.ModuleType(fullname)\n",
        "        mod.__file__ = path\n",
        "        mod.__loader__ = self\n",
        "        mod.__dict__['get_ipython'] = get_ipython\n",
        "        sys.modules[fullname] = mod\n",
        "        save_user_ns = self.shell.user_ns\n",
        "        self.shell.user_ns = mod.__dict__\n",
        "        try:\n",
        "          for cell in nb.cells:\n",
        "            if cell.cell_type == 'code':\n",
        "                code = self.shell.input_transformer_manager.transform_cell(cell.source)\n",
        "                exec(code, mod.__dict__)\n",
        "        finally:\n",
        "            self.shell.user_ns = save_user_ns\n",
        "        return mod\n",
        "\n",
        "class NotebookFinder(object):\n",
        "    def __init__(self):\n",
        "        self.loaders = {}\n",
        "\n",
        "    def find_module(self, fullname, path=None):\n",
        "        nb_path = find_notebook(fullname, path)\n",
        "        if not nb_path:\n",
        "            return\n",
        "        key = path\n",
        "        if path:\n",
        "            key = os.path.sep.join(path)\n",
        "        if key not in self.loaders:\n",
        "            self.loaders[key] = NotebookLoader(path)\n",
        "        return self.loaders[key]\n",
        "        "
      ],
      "execution_count": null,
      "outputs": []
    },
    {
      "cell_type": "code",
      "metadata": {
        "id": "URbmeBfQ9OV1",
        "colab_type": "code",
        "colab": {
          "base_uri": "https://localhost:8080/",
          "height": 34
        },
        "outputId": "78f17d4a-252d-4cc1-e760-036853b10210"
      },
      "source": [
        "%pwd\n",
        "%ls"
      ],
      "execution_count": null,
      "outputs": [
        {
          "output_type": "stream",
          "text": [
            "\u001b[0m\u001b[01;34mdrive\u001b[0m/  notebookutil.py  \u001b[01;34msample_data\u001b[0m/  test02.ipynb\n"
          ],
          "name": "stdout"
        }
      ]
    },
    {
      "cell_type": "code",
      "metadata": {
        "id": "vC5eeL0B-4YM",
        "colab_type": "code",
        "colab": {}
      },
      "source": [
        "import sys\n",
        "import notebookutil as nbu\n",
        "sys.meta_path.append(nbu.NotebookFinder())"
      ],
      "execution_count": null,
      "outputs": []
    },
    {
      "cell_type": "code",
      "metadata": {
        "id": "2iSCbVCS-7ip",
        "colab_type": "code",
        "colab": {
          "base_uri": "https://localhost:8080/",
          "height": 34
        },
        "outputId": "bda8fd87-bb92-498d-c970-7e19d4ab146d"
      },
      "source": [
        "import test02"
      ],
      "execution_count": null,
      "outputs": [
        {
          "output_type": "stream",
          "text": [
            "test01\n"
          ],
          "name": "stdout"
        }
      ]
    },
    {
      "cell_type": "code",
      "metadata": {
        "id": "_IKo7ctk_CLR",
        "colab_type": "code",
        "colab": {
          "base_uri": "https://localhost:8080/",
          "height": 34
        },
        "outputId": "2a18483a-d804-4797-9319-dcbc58685a7a"
      },
      "source": [
        "test02.test_func()"
      ],
      "execution_count": null,
      "outputs": [
        {
          "output_type": "stream",
          "text": [
            "test01\n"
          ],
          "name": "stdout"
        }
      ]
    },
    {
      "cell_type": "code",
      "metadata": {
        "id": "pYvU-oFH_68B",
        "colab_type": "code",
        "colab": {}
      },
      "source": [
        "sys.path.append(\"/content/drive/My Drive/test_03\")\n",
        "import test_drive"
      ],
      "execution_count": null,
      "outputs": []
    },
    {
      "cell_type": "code",
      "metadata": {
        "id": "lN_UEf-WADaj",
        "colab_type": "code",
        "colab": {
          "base_uri": "https://localhost:8080/",
          "height": 34
        },
        "outputId": "a0ffe020-6485-40fd-9542-e3c702441681"
      },
      "source": [
        "test_drive.test_drive_01()"
      ],
      "execution_count": null,
      "outputs": [
        {
          "output_type": "stream",
          "text": [
            "test_drive_01\n"
          ],
          "name": "stdout"
        }
      ]
    },
    {
      "cell_type": "markdown",
      "metadata": {
        "id": "to2H_wc4Cco0",
        "colab_type": "text"
      },
      "source": [
        "***** 別ディレクトリのインポート確認***********************************"
      ]
    },
    {
      "cell_type": "code",
      "metadata": {
        "id": "kMK4qmK2CoZ6",
        "colab_type": "code",
        "colab": {}
      },
      "source": [
        "import sys\n",
        "\n",
        "sys.path.append(\"/content/drive/My Drive/import_test\")\n",
        "\n",
        "import notebookutil2 as nbu\n",
        "sys.meta_path.append(nbu.NotebookFinder())\n",
        "import test_drive2"
      ],
      "execution_count": null,
      "outputs": []
    },
    {
      "cell_type": "code",
      "metadata": {
        "id": "jIb5moX1CaWT",
        "colab_type": "code",
        "colab": {
          "base_uri": "https://localhost:8080/",
          "height": 34
        },
        "outputId": "0fc1bce4-7231-474b-85a3-08943c7074bb"
      },
      "source": [
        "test_drive2.test_drive_01()"
      ],
      "execution_count": null,
      "outputs": [
        {
          "output_type": "stream",
          "text": [
            "test_drive_01 .....\n"
          ],
          "name": "stdout"
        }
      ]
    },
    {
      "cell_type": "code",
      "metadata": {
        "id": "r6uyUpjsDtWT",
        "colab_type": "code",
        "colab": {
          "base_uri": "https://localhost:8080/",
          "height": 34
        },
        "outputId": "8a7b661c-19c1-4c50-b804-ba9b09e3669e"
      },
      "source": [
        "import notebookutil2 as nbu\n",
        "print( \"AAAA:\", nbu.NotebookFinder())\n",
        "sys.meta_path.append(nbu.NotebookFinder())\n",
        "import test_ipynb"
      ],
      "execution_count": null,
      "outputs": [
        {
          "output_type": "stream",
          "text": [
            "AAAA: <notebookutil2.NotebookFinder object at 0x7f33468cb048>\n"
          ],
          "name": "stdout"
        }
      ]
    },
    {
      "cell_type": "code",
      "metadata": {
        "id": "RWX5ZvxAF9yh",
        "colab_type": "code",
        "colab": {
          "base_uri": "https://localhost:8080/",
          "height": 34
        },
        "outputId": "8a6a8089-841d-427e-b02a-3918bfa5275b"
      },
      "source": [
        "test_ipynb.test_func()"
      ],
      "execution_count": null,
      "outputs": [
        {
          "output_type": "stream",
          "text": [
            "test01 ipynb ......\n"
          ],
          "name": "stdout"
        }
      ]
    },
    {
      "cell_type": "code",
      "metadata": {
        "id": "InRC9cXDMP0H",
        "colab_type": "code",
        "colab": {
          "base_uri": "https://localhost:8080/",
          "height": 160
        },
        "outputId": "2bbc2d16-5cfb-4a17-8c16-ec98b89bae2e"
      },
      "source": [
        "pip install importnb"
      ],
      "execution_count": 6,
      "outputs": [
        {
          "output_type": "stream",
          "text": [
            "Collecting importnb\n",
            "  Downloading https://files.pythonhosted.org/packages/e3/0d/47799d2c6f5f38c9f57aa41f367a0f944fc5c691023c33bbbc8b569a8c29/importnb-0.6.1-py3-none-any.whl\n",
            "Collecting importlib-resources\n",
            "  Downloading https://files.pythonhosted.org/packages/ba/03/0f9595c0c2ef12590877f3c47e5f579759ce5caf817f8256d5dcbd8a1177/importlib_resources-3.0.0-py2.py3-none-any.whl\n",
            "Requirement already satisfied: zipp>=0.4; python_version < \"3.8\" in /usr/local/lib/python3.6/dist-packages (from importlib-resources->importnb) (3.1.0)\n",
            "Installing collected packages: importlib-resources, importnb\n",
            "Successfully installed importlib-resources-3.0.0 importnb-0.6.1\n"
          ],
          "name": "stdout"
        }
      ]
    },
    {
      "cell_type": "code",
      "metadata": {
        "id": "nq3TPJGgMkdK",
        "colab_type": "code",
        "colab": {
          "base_uri": "https://localhost:8080/",
          "height": 34
        },
        "outputId": "9b823508-d5ff-4ced-d314-45250c53308b"
      },
      "source": [
        "import sys\n",
        "\n",
        "sys.path.append(\"/content/drive/My Drive/import_test\")\n",
        "import importnb\n",
        "with __import__('importnb').Notebook(): \n",
        "    import test_ipynb2\n",
        "test_ipynb2.test_func()"
      ],
      "execution_count": 8,
      "outputs": [
        {
          "output_type": "stream",
          "text": [
            "test01 ipynb ......\n"
          ],
          "name": "stdout"
        }
      ]
    },
    {
      "cell_type": "code",
      "metadata": {
        "id": "Lf30Kv-537o7",
        "colab_type": "code",
        "colab": {
          "base_uri": "https://localhost:8080/",
          "height": 34
        },
        "outputId": "f0c01adf-2c94-471c-8ae2-39bef8392acd"
      },
      "source": [
        "import test_drive2\n",
        "test_drive2.test_drive_01()"
      ],
      "execution_count": 9,
      "outputs": [
        {
          "output_type": "stream",
          "text": [
            "test_drive_01 .....\n"
          ],
          "name": "stdout"
        }
      ]
    },
    {
      "cell_type": "code",
      "metadata": {
        "id": "OpTrLwWQ4DgD",
        "colab_type": "code",
        "colab": {
          "base_uri": "https://localhost:8080/",
          "height": 52
        },
        "outputId": "bdfad60e-f9fb-4dd2-9145-e4bcd14b6efe"
      },
      "source": [
        "import os\n",
        "%cd '/content/drive/My Drive/import_test'\n",
        "%pwd\n",
        "selfDir = os.path.dirname(os.path.abspath(\"__file__\"))\n",
        "print( \"selfDir :\", selfDir)"
      ],
      "execution_count": 14,
      "outputs": [
        {
          "output_type": "stream",
          "text": [
            "/content/drive/My Drive/import_test\n",
            "selfDir : /content/drive/My Drive/import_test\n"
          ],
          "name": "stdout"
        }
      ]
    }
  ]
}